{
    "metadata": {
        "kernelspec": {
            "name": "SQL",
            "display_name": "SQL",
            "language": "sql"
        },
        "language_info": {
            "name": "sql",
            "version": ""
        }
    },
    "nbformat_minor": 2,
    "nbformat": 4,
    "cells": [
        {
            "cell_type": "markdown",
            "source": [
                "# IO Latency"
            ],
            "metadata": {
                "azdata_cell_guid": "6f269392-6a37-4445-8d43-c206ee05ae7b"
            },
            "attachments": {}
        },
        {
            "cell_type": "code",
            "source": [
                "--\tHow to examine IO subsystem latencies from within SQL Server (Disk Latency)\r\n",
                "\t--\thttps://www.sqlskills.com/blogs/paul/how-to-examine-io-subsystem-latencies-from-within-sql-server/\r\n",
                "\t--\thttps://sqlperformance.com/2015/03/io-subsystem/monitoring-read-write-latency\r\n",
                "\t--\thttps://www.brentozar.com/blitz/slow-storage-reads-writes/\r\n",
                "\r\n",
                "select\t[Startup Time] = cast(create_date as smalldatetime), \r\n",
                "\t\t[Uptime- Days HH:mm:ss)] = convert(varchar,datediff(day,'1900-01-01',(GETDATE()-create_date)))+' Days '+convert(varchar,(GETDATE()-create_date),108)\r\n",
                "from sys.databases d where d.name = 'tempdb';\r\n",
                "\r\n",
                "IF OBJECT_ID('tempdb..#VirtualFileStats') IS NOT NULL\r\n",
                "\tDROP TABLE #VirtualFileStats;\r\n",
                "SELECT  \r\n",
                "    [ReadLatency] =\r\n",
                "        CASE WHEN [num_of_reads] = 0\r\n",
                "            THEN 0 ELSE ([io_stall_read_ms] / [num_of_reads]) END,\r\n",
                "    [WriteLatency] =\r\n",
                "        CASE WHEN [num_of_writes] = 0\r\n",
                "            THEN 0 ELSE ([io_stall_write_ms] / [num_of_writes]) END,\r\n",
                "    [Latency] =\r\n",
                "        CASE WHEN ([num_of_reads] = 0 AND [num_of_writes] = 0)\r\n",
                "            THEN 0 ELSE ([io_stall] / ([num_of_reads] + [num_of_writes])) END,\r\n",
                "    [AvgBPerRead] =\r\n",
                "        CASE WHEN [num_of_reads] = 0\r\n",
                "            THEN 0 ELSE ([num_of_bytes_read] / [num_of_reads]) END,\r\n",
                "    [AvgBPerWrite] =\r\n",
                "        CASE WHEN [num_of_writes] = 0\r\n",
                "            THEN 0 ELSE ([num_of_bytes_written] / [num_of_writes]) END,\r\n",
                "    [AvgBPerTransfer] =\r\n",
                "        CASE WHEN ([num_of_reads] = 0 AND [num_of_writes] = 0)\r\n",
                "            THEN 0 ELSE\r\n",
                "                (([num_of_bytes_read] + [num_of_bytes_written]) /\r\n",
                "                ([num_of_reads] + [num_of_writes])) END,\r\n",
                "    LEFT ([mf].[physical_name], 2) AS [Drive],\r\n",
                "    DB_NAME ([vfs].[database_id]) AS [DB],\r\n",
                "    [FileLocation] = [mf].[physical_name],\r\n",
                "\t[DataReadGB] = convert(numeric(20,2),[num_of_bytes_read]*1.0/1024/1024/1024), \r\n",
                "\t[DataWrittenGB] = convert(numeric(20,2),[num_of_bytes_written]*1.0/1024/1024/1024), \r\n",
                "\t[NoOfReads] = [num_of_reads], [NoOfWrites] = [num_of_writes]\r\n",
                "INTO #VirtualFileStats\r\n",
                "FROM\r\n",
                "    sys.dm_io_virtual_file_stats (NULL,NULL) AS [vfs]\r\n",
                "JOIN sys.master_files AS [mf]\r\n",
                "    ON [vfs].[database_id] = [mf].[database_id]\r\n",
                "    AND [vfs].[file_id] = [mf].[file_id];\r\n",
                "\r\n",
                "SELECT\ttop 20\r\n",
                "\t\tRunningQuery = 'TempDb-Latency',\r\n",
                "\t\tReadLatency, WriteLatency, Latency, \r\n",
                "\t\tDrive, DB, [FileLocation], DataReadGB, DataWrittenGB, [NoOfReads], [NoOfWrites],\r\n",
                "\t\t[Avg-KB-Per-Read] = convert(numeric(20,2),AvgBPerRead*1.0/1024),\r\n",
                "\t\t[Avg-KB-Per-Write] = convert(numeric(20,2),AvgBPerWrite*1.0/1024)\r\n",
                "FROM #VirtualFileStats\r\n",
                "WHERE [DB] = 'tempdb'\r\n",
                "ORDER BY ([ReadLatency]+[WriteLatency]) DESC;\r\n",
                "\r\n",
                "SELECT\ttop 20\r\n",
                "\t\tRunningQuery = 'Top-20-UserDb-Latency',\r\n",
                "\t\tReadLatency, WriteLatency, Latency, \r\n",
                "\t\tDrive, DB, [FileLocation], DataReadGB, DataWrittenGB, [NoOfReads], [NoOfWrites],\r\n",
                "\t\t[Avg-KB-Per-Read] = convert(numeric(20,2),AvgBPerRead*1.0/1024),\r\n",
                "\t\t[Avg-KB-Per-Write] = convert(numeric(20,2),AvgBPerWrite*1.0/1024)\r\n",
                "FROM #VirtualFileStats\r\n",
                "WHERE [DB] <> 'tempdb'\r\n",
                "ORDER BY ([ReadLatency]+[WriteLatency]) DESC;\r\n",
                "\r\n",
                "SELECT\ttop 20\r\n",
                "\t\tRunningQuery = 'top-20-DbFiles-By-IO',\t\t\r\n",
                "\t\tDrive, DB, [FileLocation], DataReadGB, DataWrittenGB, \r\n",
                "\t\tReadLatency, WriteLatency, Latency, [NoOfReads], [NoOfWrites],\r\n",
                "\t\t[Avg-KB-Per-Read] = convert(numeric(20,2),AvgBPerRead*1.0/1024),\r\n",
                "\t\t[Avg-KB-Per-Write] = convert(numeric(20,2),AvgBPerWrite*1.0/1024)\r\n",
                "FROM #VirtualFileStats\r\n",
                "ORDER BY (DataReadGB+DataWrittenGB) DESC;\r\n",
                "GO"
            ],
            "metadata": {
                "azdata_cell_guid": "9e928b04-4796-400f-8096-a8024a419d7d",
                "language": "sql",
                "tags": [
                    "hide_input"
                ]
            },
            "outputs": [],
            "execution_count": null
        }
    ]
}